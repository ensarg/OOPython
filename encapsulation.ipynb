{
  "nbformat": 4,
  "nbformat_minor": 0,
  "metadata": {
    "colab": {
      "provenance": [],
      "authorship_tag": "ABX9TyMh2WstulX667TppnRyawqs",
      "include_colab_link": true
    },
    "kernelspec": {
      "name": "python3",
      "display_name": "Python 3"
    },
    "language_info": {
      "name": "python"
    }
  },
  "cells": [
    {
      "cell_type": "markdown",
      "metadata": {
        "id": "view-in-github",
        "colab_type": "text"
      },
      "source": [
        "<a href=\"https://colab.research.google.com/github/ensarg/OOPython/blob/main/encapsulation.ipynb\" target=\"_parent\"><img src=\"https://colab.research.google.com/assets/colab-badge.svg\" alt=\"Open In Colab\"/></a>"
      ]
    },
    {
      "cell_type": "code",
      "execution_count": null,
      "metadata": {
        "colab": {
          "base_uri": "https://localhost:8080/"
        },
        "id": "5ADD8viToj-M",
        "outputId": "2d4e3ee6-178c-431c-ec3a-877cbe2749f2"
      },
      "outputs": [
        {
          "output_type": "stream",
          "name": "stdout",
          "text": [
            "Initial Balance: 1000\n",
            "Balance after deposit: 1500\n",
            "Balance after withdrawal: 1300\n"
          ]
        }
      ],
      "source": [
        "class BankAccount:\n",
        "    def __init__(self, account_holder, balance=0):\n",
        "        self.account_holder = account_holder  # Public attribute\n",
        "        self.__balance = balance  # Private attribute (encapsulated)\n",
        "\n",
        "    # Getter method to access the private balance\n",
        "    def get_balance(self):\n",
        "        return self.__balance\n",
        "\n",
        "    # Setter method to modify the private balance\n",
        "    def deposit(self, amount):\n",
        "        if amount > 0:\n",
        "            self.__balance += amount\n",
        "        else:\n",
        "            print(\"Deposit amount must be positive.\")\n",
        "\n",
        "    # Setter method to withdraw money (with some logic for validation)\n",
        "    def withdraw(self, amount):\n",
        "        if 0 < amount <= self.__balance:\n",
        "            self.__balance -= amount\n",
        "        else:\n",
        "            print(\"Invalid withdrawal amount or insufficient funds.\")\n",
        "\n",
        "# Create an instance of BankAccount\n",
        "account = BankAccount(\"Alice\", 1000)\n",
        "\n",
        "# Accessing the balance using the getter method\n",
        "print(f\"Initial Balance: {account.get_balance()}\")\n",
        "\n",
        "# Deposit money\n",
        "account.deposit(500)\n",
        "print(f\"Balance after deposit: {account.get_balance()}\")\n",
        "\n",
        "# Withdraw money\n",
        "account.withdraw(200)\n",
        "print(f\"Balance after withdrawal: {account.get_balance()}\")\n",
        "\n",
        "# Attempting to access the private __balance attribute directly will raise an error\n",
        "#print(account.__balance)  # Uncommenting this will result in an AttributeError\n"
      ]
    },
    {
      "cell_type": "markdown",
      "source": [
        "In Python, access control is more relaxed than in Java, and it doesn't have explicit access modifiers like `private`, `protected`, and `public`. However, Python provides mechanisms to control the accessibility of class attributes and methods through naming conventions and some built-in mechanisms. Let's compare Python's access control with Java's access modifiers.\n",
        "\n",
        "### Java Access Modifiers:\n",
        "In Java, there are three primary access levels:\n",
        "1. **`private`**: The member is accessible only within the same class.\n",
        "2. **`protected`**: The member is accessible within the same package or subclass.\n",
        "3. **`public`**: The member is accessible from anywhere.\n",
        "\n",
        "Additionally, Java also has a default access level (also called **package-private**), where members are accessible only within the same package, but this doesn't have an explicit keyword.\n",
        "\n",
        "### Python Access Control:\n",
        "Python doesn't have strict access modifiers. Instead, it relies on naming conventions to indicate the intended visibility of class members. Here's how it compares to Java:\n",
        "\n",
        "1. **Public Members**:\n",
        "   - In Python, **all members** (attributes and methods) are **public by default**. You can directly access them from outside the class.\n",
        "   - This is similar to Java's `public` access level.\n",
        "\n",
        "   ```python\n",
        "   class MyClass:\n",
        "       def __init__(self, name):\n",
        "           self.name = name  # Public attribute\n",
        "\n",
        "       def greet(self):  # Public method\n",
        "           print(f\"Hello, {self.name}!\")\n",
        "\n",
        "   obj = MyClass(\"Alice\")\n",
        "   print(obj.name)  # Accessing a public attribute\n",
        "   obj.greet()  # Calling a public method\n",
        "   ```\n",
        "\n",
        "2. **Protected Members (Conventional)**:\n",
        "   - In Python, **protected members** are indicated by a **single underscore (`_`)** prefix. This is just a convention, and it means \"this is intended to be protected, but it can still be accessed from outside the class.\" Python does not enforce this, so the attribute or method can still be accessed directly.\n",
        "   - This is somewhat analogous to Java's `protected` access level, which allows access within the same package or subclass.\n",
        "\n",
        "   ```python\n",
        "   class MyClass:\n",
        "       def __init__(self, name):\n",
        "           self._name = name  # Protected attribute (convention)\n",
        "       \n",
        "       def _greet(self):  # Protected method (convention)\n",
        "           print(f\"Hello, {self._name}!\")\n",
        "\n",
        "   obj = MyClass(\"Bob\")\n",
        "   print(obj._name)  # It is accessible, but convention suggests it should not be accessed directly.\n",
        "   obj._greet()  # Similarly, it's accessible but not recommended to be called directly.\n",
        "   ```\n",
        "\n",
        "3. **Private Members**:\n",
        "   - **Private members** in Python are indicated by a **double underscore (`__`)** prefix. This triggers name mangling, which changes the name of the variable to `_ClassName__variable`. The intention here is to make it harder to access these attributes and methods from outside the class.\n",
        "   - This is similar to Java's `private` access level, which restricts access to the member only within the class.\n",
        "\n",
        "   ```python\n",
        "   class MyClass:\n",
        "       def __init__(self, name):\n",
        "           self.__name = name  # Private attribute\n",
        "\n",
        "       def __greet(self):  # Private method\n",
        "           print(f\"Hello, {self.__name}!\")\n",
        "\n",
        "   obj = MyClass(\"Charlie\")\n",
        "   # print(obj.__name)  # Raises AttributeError: 'MyClass' object has no attribute '__name'\n",
        "   # obj.__greet()  # Raises AttributeError: 'MyClass' object has no attribute '__greet'\n",
        "\n",
        "   # Access private members through name mangling (not recommended)\n",
        "   print(obj._MyClass__name)  # Accessing private attribute (not recommended)\n",
        "   obj._MyClass__greet()  # Accessing private method (not recommended)\n",
        "   ```\n",
        "\n",
        "### Summary of Access Control in Python vs. Java:\n",
        "\n",
        "| **Access Level**      | **Python**                                       | **Java**                                |\n",
        "|-----------------------|--------------------------------------------------|-----------------------------------------|\n",
        "| **Public**            | No access control. Members are accessible from anywhere. | `public` — Accessible from anywhere.    |\n",
        "| **Protected**         | Single underscore (`_`) prefix (by convention). It's not enforced but suggests that the member is for internal use. | `protected` — Accessible within the same package and subclasses. |\n",
        "| **Private**           | Double underscore (`__`) prefix triggers name mangling, but it's still accessible via `_ClassName__variable`. | `private` — Accessible only within the same class. |\n",
        "\n",
        "### Conclusion:\n",
        "- **In Python**, access control is **convention-based**. It relies on the use of underscores (`_` and `__`) to indicate the intended visibility of members, but these are not enforced by the language.\n",
        "- **In Java**, access control is **enforced** through the use of explicit keywords (`private`, `protected`, `public`), which determine the actual visibility and access of class members.\n",
        "\n",
        "Python provides flexibility by allowing access to members regardless of naming conventions, while Java strictly enforces access levels based on the specified access modifier."
      ],
      "metadata": {
        "id": "fq4ntSEqpgDe"
      }
    },
    {
      "cell_type": "code",
      "source": [
        "class MyClass:\n",
        "    def __init__(self, name):\n",
        "        self._name = name  # Protected attribute (convention)\n",
        "\n",
        "    def _greet(self):  # Protected method (convention)\n",
        "        print(f\"Hello, {self._name}!\")\n",
        "\n",
        "obj = MyClass(\"Bob\")\n",
        "print(obj._name)  # It is accessible, but convention suggests it should not be accessed directly.\n",
        "obj._greet()  # Similarly, it's accessible but not recommended to be called directly.\n"
      ],
      "metadata": {
        "colab": {
          "base_uri": "https://localhost:8080/"
        },
        "id": "1i-0PYCKggZ3",
        "outputId": "7b22ea63-89eb-4942-9dd7-7bd7d29f9b26"
      },
      "execution_count": null,
      "outputs": [
        {
          "output_type": "stream",
          "name": "stdout",
          "text": [
            "Bob\n",
            "Hello, Bob!\n"
          ]
        }
      ]
    },
    {
      "cell_type": "code",
      "source": [
        "class MyClass:\n",
        "    def __init__(self, name):\n",
        "        self.__name = name  # Private attribute\n",
        "\n",
        "    def __greet(self):  # Private method. ??\n",
        "        print(f\"Hello, {self.__name}!\")\n",
        "    def get_name(self):\n",
        "      return self.__name\n",
        "\n",
        "\n",
        "\n",
        "obj = MyClass(\"Ahmet\")\n",
        "#print(obj.__name)  # Raises AttributeError: 'MyClass' object has no attribute '__name'\n",
        "print(obj.get_name())\n",
        "#obj.__greet()  # Raises AttributeError: 'MyClass' object has no attribute '__greet'\n",
        "\n",
        "# Access private members through name mangling (not recommended)\n",
        "#print(obj._MyClass__name)  # Accessing private attribute (not recommended)\n",
        "#obj._MyClass__greet()  # Accessing private method (not recommended)"
      ],
      "metadata": {
        "colab": {
          "base_uri": "https://localhost:8080/",
          "height": 233
        },
        "id": "vcUJCn_FhCmY",
        "outputId": "11edade0-948d-48b7-a90c-3b7f8d651c13"
      },
      "execution_count": null,
      "outputs": [
        {
          "output_type": "stream",
          "name": "stdout",
          "text": [
            "Ahmet\n"
          ]
        },
        {
          "output_type": "error",
          "ename": "AttributeError",
          "evalue": "'MyClass' object has no attribute '__greet'",
          "traceback": [
            "\u001b[0;31m---------------------------------------------------------------------------\u001b[0m",
            "\u001b[0;31mAttributeError\u001b[0m                            Traceback (most recent call last)",
            "\u001b[0;32m<ipython-input-13-ca7275314a9f>\u001b[0m in \u001b[0;36m<cell line: 0>\u001b[0;34m()\u001b[0m\n\u001b[1;32m     13\u001b[0m \u001b[0;31m#print(obj.__name)  # Raises AttributeError: 'MyClass' object has no attribute '__name'\u001b[0m\u001b[0;34m\u001b[0m\u001b[0;34m\u001b[0m\u001b[0m\n\u001b[1;32m     14\u001b[0m \u001b[0mprint\u001b[0m\u001b[0;34m(\u001b[0m\u001b[0mobj\u001b[0m\u001b[0;34m.\u001b[0m\u001b[0mget_name\u001b[0m\u001b[0;34m(\u001b[0m\u001b[0;34m)\u001b[0m\u001b[0;34m)\u001b[0m\u001b[0;34m\u001b[0m\u001b[0;34m\u001b[0m\u001b[0m\n\u001b[0;32m---> 15\u001b[0;31m \u001b[0mobj\u001b[0m\u001b[0;34m.\u001b[0m\u001b[0m__greet\u001b[0m\u001b[0;34m(\u001b[0m\u001b[0;34m)\u001b[0m  \u001b[0;31m# Raises AttributeError: 'MyClass' object has no attribute '__greet'\u001b[0m\u001b[0;34m\u001b[0m\u001b[0;34m\u001b[0m\u001b[0m\n\u001b[0m\u001b[1;32m     16\u001b[0m \u001b[0;34m\u001b[0m\u001b[0m\n\u001b[1;32m     17\u001b[0m \u001b[0;31m# Access private members through name mangling (not recommended)\u001b[0m\u001b[0;34m\u001b[0m\u001b[0;34m\u001b[0m\u001b[0m\n",
            "\u001b[0;31mAttributeError\u001b[0m: 'MyClass' object has no attribute '__greet'"
          ]
        }
      ]
    }
  ]
}