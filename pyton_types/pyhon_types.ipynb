{
  "nbformat": 4,
  "nbformat_minor": 0,
  "metadata": {
    "colab": {
      "provenance": [],
      "include_colab_link": true
    },
    "kernelspec": {
      "name": "python3",
      "display_name": "Python 3"
    },
    "language_info": {
      "name": "python"
    }
  },
  "cells": [
    {
      "cell_type": "markdown",
      "metadata": {
        "id": "view-in-github",
        "colab_type": "text"
      },
      "source": [
        "<a href=\"https://colab.research.google.com/github/ensarg/OOPython/blob/main/pyton_types/pyhon_types.ipynb\" target=\"_parent\"><img src=\"https://colab.research.google.com/assets/colab-badge.svg\" alt=\"Open In Colab\"/></a>"
      ]
    },
    {
      "cell_type": "markdown",
      "source": [
        "the data type is set when you assign a value to a variable"
      ],
      "metadata": {
        "id": "qEZtS2raYUTY"
      }
    },
    {
      "cell_type": "code",
      "source": [
        "#integer\n",
        "x=25\n",
        "print(\"x=\",x)\n",
        "#display the data type of x:\n",
        "print(\"type of x is:\",type(x))\n"
      ],
      "metadata": {
        "colab": {
          "base_uri": "https://localhost:8080/"
        },
        "id": "rv_7zLGGYXOd",
        "outputId": "9434f4b2-2d99-4b95-f183-844f09799199"
      },
      "execution_count": null,
      "outputs": [
        {
          "output_type": "stream",
          "name": "stdout",
          "text": [
            "x= 25\n",
            "type of x is: <class 'int'>\n"
          ]
        }
      ]
    },
    {
      "cell_type": "code",
      "source": [
        "#float\n",
        "y=3.14\n",
        "print(\"y=\",y)\n",
        "#display the data type of y:\n",
        "print(\"type of y is:\",type(y))\n"
      ],
      "metadata": {
        "colab": {
          "base_uri": "https://localhost:8080/"
        },
        "id": "sd8_G2s6ZKd0",
        "outputId": "45a5c5ce-c068-4326-c131-60ca5396f4b9"
      },
      "execution_count": null,
      "outputs": [
        {
          "output_type": "stream",
          "name": "stdout",
          "text": [
            "y= 3.14\n",
            "type of y is: <class 'float'>\n"
          ]
        }
      ]
    },
    {
      "cell_type": "code",
      "source": [
        "#complex numbers\n",
        "z = 2j\n",
        "print(\"z=\",z)\n",
        "#display the data type of z:\n",
        "print(\"type of z is:\",type(z))\n",
        "\n"
      ],
      "metadata": {
        "colab": {
          "base_uri": "https://localhost:8080/"
        },
        "id": "OndpkADwaOlP",
        "outputId": "1019b116-6d77-4f06-8b04-9ebf20718eab"
      },
      "execution_count": null,
      "outputs": [
        {
          "output_type": "stream",
          "name": "stdout",
          "text": [
            "z= 2j\n",
            "type of z is: <class 'complex'>\n"
          ]
        }
      ]
    },
    {
      "cell_type": "code",
      "source": [
        "#boolean\n",
        "b = True\n",
        "print(\"b=\",b)\n",
        "#display the data type of b:\n",
        "print(\"type of b is:\",type(b))\n",
        "\n"
      ],
      "metadata": {
        "colab": {
          "base_uri": "https://localhost:8080/"
        },
        "id": "w7ClIBJXay58",
        "outputId": "55d56a4b-26db-4162-93d0-4a9bccce31bd"
      },
      "execution_count": null,
      "outputs": [
        {
          "output_type": "stream",
          "name": "stdout",
          "text": [
            "b= True\n",
            "type of b is: <class 'bool'>\n"
          ]
        }
      ]
    },
    {
      "cell_type": "code",
      "source": [
        "# Bytes: Immutable sequence of bytes\n",
        "my_bytes = b\"Hello, World!\"  # `b` prefix indicates a bytes object\n",
        "print(\"Bytes Example:\")\n",
        "print(\"Bytes:\", my_bytes)\n",
        "print(\"Bytes are immutable:\", my_bytes[0])  # Can access by index\n",
        "#my_bytes[0] = 72  # Uncommenting this line will raise an error since bytes are immutable\n",
        "\n",
        "# Bytearray: Mutable sequence of bytes\n",
        "my_bytearray = bytearray(b\"Hello, World!\")\n",
        "print(\"\\nBytearray Example:\")\n",
        "print(\"Bytearray:\", my_bytearray)\n",
        "print(\"Bytearray is mutable:\", my_bytearray[0])  # Can access by index\n",
        "my_bytearray[0] = 73  # You can modify elements of bytearray\n",
        "print(\"After modifying the first byte:\", my_bytearray)\n",
        "\n",
        "# Demonstrating methods that can be used to modify bytearray\n",
        "my_bytearray.append(33)  # Appending a byte to the bytearray\n",
        "print(\"After appending a byte (33):\", my_bytearray)\n",
        "my_bytearray.remove(72)  # Removing a byte (value 72)\n",
        "print(\"After removing byte 72:\", my_bytearray)\n"
      ],
      "metadata": {
        "colab": {
          "base_uri": "https://localhost:8080/",
          "height": 269
        },
        "id": "SX55lewqbpEv",
        "outputId": "fe507df9-3da9-43a9-93e4-ae9a54d46afc"
      },
      "execution_count": null,
      "outputs": [
        {
          "output_type": "stream",
          "name": "stdout",
          "text": [
            "Bytes Example:\n",
            "Bytes: b'Hello, World!'\n",
            "Bytes are immutable: 72\n"
          ]
        },
        {
          "output_type": "error",
          "ename": "TypeError",
          "evalue": "'bytes' object does not support item assignment",
          "traceback": [
            "\u001b[0;31m---------------------------------------------------------------------------\u001b[0m",
            "\u001b[0;31mTypeError\u001b[0m                                 Traceback (most recent call last)",
            "\u001b[0;32m<ipython-input-21-61c9826adda1>\u001b[0m in \u001b[0;36m<cell line: 0>\u001b[0;34m()\u001b[0m\n\u001b[1;32m      4\u001b[0m \u001b[0mprint\u001b[0m\u001b[0;34m(\u001b[0m\u001b[0;34m\"Bytes:\"\u001b[0m\u001b[0;34m,\u001b[0m \u001b[0mmy_bytes\u001b[0m\u001b[0;34m)\u001b[0m\u001b[0;34m\u001b[0m\u001b[0;34m\u001b[0m\u001b[0m\n\u001b[1;32m      5\u001b[0m \u001b[0mprint\u001b[0m\u001b[0;34m(\u001b[0m\u001b[0;34m\"Bytes are immutable:\"\u001b[0m\u001b[0;34m,\u001b[0m \u001b[0mmy_bytes\u001b[0m\u001b[0;34m[\u001b[0m\u001b[0;36m0\u001b[0m\u001b[0;34m]\u001b[0m\u001b[0;34m)\u001b[0m  \u001b[0;31m# Can access by index\u001b[0m\u001b[0;34m\u001b[0m\u001b[0;34m\u001b[0m\u001b[0m\n\u001b[0;32m----> 6\u001b[0;31m \u001b[0mmy_bytes\u001b[0m\u001b[0;34m[\u001b[0m\u001b[0;36m0\u001b[0m\u001b[0;34m]\u001b[0m \u001b[0;34m=\u001b[0m \u001b[0;36m72\u001b[0m  \u001b[0;31m# Uncommenting this line will raise an error since bytes are immutable\u001b[0m\u001b[0;34m\u001b[0m\u001b[0;34m\u001b[0m\u001b[0m\n\u001b[0m\u001b[1;32m      7\u001b[0m \u001b[0;34m\u001b[0m\u001b[0m\n\u001b[1;32m      8\u001b[0m \u001b[0;31m# Bytearray: Mutable sequence of bytes\u001b[0m\u001b[0;34m\u001b[0m\u001b[0;34m\u001b[0m\u001b[0m\n",
            "\u001b[0;31mTypeError\u001b[0m: 'bytes' object does not support item assignment"
          ]
        }
      ]
    },
    {
      "cell_type": "markdown",
      "source": [
        "The memoryview object in Python allows you to access the internal memory of objects that support the buffer protocol (e.g., bytes, bytearray, array module types) without copying the underlying data. This is useful when working with large datasets or binary data because it allows you to interact with them efficiently."
      ],
      "metadata": {
        "id": "gZEQX9u7lUXV"
      }
    },
    {
      "cell_type": "code",
      "source": [
        "import random\n",
        "\n",
        "# Example of using memoryview with a bytearray\n",
        "\n",
        "# Create a bytearray\n",
        "data = bytearray(b\"Hello, World!\")\n",
        "\n",
        "# Create a memoryview object from the bytearray\n",
        "mv = memoryview(data)\n",
        "\n",
        "print(\"Original bytearray:\", data)\n",
        "print(\"Memoryview:\", mv)\n",
        "\n",
        "# Access the memoryview's content as bytes\n",
        "print(\"Memoryview as bytes:\", mv.tobytes())\n",
        "\n",
        "# Modify the memoryview (which will also modify the original bytearray)\n",
        "mv[0] = 75  # Change the first byte (ASCII for 'H')\n",
        "mv[7] = 87  # Change 'W' (ASCII for 'W')\n",
        "\n",
        "print(\"Modified bytearray:\", data)\n",
        "print(\"Modified memoryview:\", mv)\n",
        "\n",
        "# Slicing memoryview\n",
        "slice_mv = mv[0:5]  # Create a slice of the memoryview (first 5 elements)\n",
        "print(\"Sliced memoryview:\", slice_mv.tobytes())  # Slice data as bytes\n",
        "\n",
        "# Using memoryview with large data\n",
        "large_data = bytearray(random.randint(0, 255) for _ in range(1000))  # Create a large bytearray with values 0-255\n",
        "large_mv = memoryview(large_data)\n",
        "\n",
        "# Access part of the large data without copying\n",
        "print(\"First 10 bytes of large data:\", large_mv[:10].tolist())  # View the first 10 bytes\n"
      ],
      "metadata": {
        "colab": {
          "base_uri": "https://localhost:8080/"
        },
        "id": "WES4WC9SlWeo",
        "outputId": "ab7a5e30-0341-464c-dc20-25fc284bf518"
      },
      "execution_count": null,
      "outputs": [
        {
          "output_type": "stream",
          "name": "stdout",
          "text": [
            "Original bytearray: bytearray(b'Hello, World!')\n",
            "Memoryview: <memory at 0x7f472726e2c0>\n",
            "Memoryview as bytes: b'Hello, World!'\n",
            "Modified bytearray: bytearray(b'Kello, World!')\n",
            "Modified memoryview: <memory at 0x7f472726e2c0>\n",
            "Sliced memoryview: b'Kello'\n",
            "First 10 bytes of large data: [110, 162, 184, 96, 227, 18, 69, 231, 216, 72]\n"
          ]
        }
      ]
    },
    {
      "cell_type": "code",
      "source": [
        "# List: Ordered, mutable, allows duplicates\n",
        "my_list = [1, 2, 3, 4, 4]  # List allows duplicates\n",
        "print(\"List Example:\")\n",
        "print(\"List:\", my_list)\n",
        "print(\"List is ordered:\", my_list[2])  # Can access by index\n",
        "print(\"List allows duplicates:\", my_list)\n",
        "\n"
      ],
      "metadata": {
        "colab": {
          "base_uri": "https://localhost:8080/"
        },
        "id": "77DszwbpZZsG",
        "outputId": "6281d6df-3650-4953-b1d1-abedaf1d0a52"
      },
      "execution_count": null,
      "outputs": [
        {
          "output_type": "stream",
          "name": "stdout",
          "text": [
            "List Example:\n",
            "List: [1, 2, 3, 4, 4]\n",
            "List is ordered: 3\n",
            "List allows duplicates: [1, 2, 3, 4, 4]\n"
          ]
        }
      ]
    },
    {
      "cell_type": "code",
      "source": [
        "# Tuple: Ordered, immutable, allows duplicates\n",
        "my_tuple = (1, 2, 3, 4, 4)  # Tuple allows duplicates\n",
        "print(\"\\nTuple Example:\")\n",
        "print(\"Tuple:\", my_tuple)\n",
        "print(\"Tuple is ordered:\", my_tuple[2])  # Can access by index\n",
        "my_tuple[0] = 5  # Uncommenting this will throw an error because tuples are immutable\n",
        "# print(\"Trying to modify tuple:\", my_tuple)\n",
        "\n"
      ],
      "metadata": {
        "colab": {
          "base_uri": "https://localhost:8080/",
          "height": 287
        },
        "id": "T71pEODIZrJZ",
        "outputId": "557c3894-4554-4d61-f0e9-e054995b375b"
      },
      "execution_count": null,
      "outputs": [
        {
          "output_type": "stream",
          "name": "stdout",
          "text": [
            "\n",
            "Tuple Example:\n",
            "Tuple: (1, 2, 3, 4, 4)\n",
            "Tuple is ordered: 3\n"
          ]
        },
        {
          "output_type": "error",
          "ename": "TypeError",
          "evalue": "'tuple' object does not support item assignment",
          "traceback": [
            "\u001b[0;31m---------------------------------------------------------------------------\u001b[0m",
            "\u001b[0;31mTypeError\u001b[0m                                 Traceback (most recent call last)",
            "\u001b[0;32m<ipython-input-9-06d5b35aae18>\u001b[0m in \u001b[0;36m<cell line: 0>\u001b[0;34m()\u001b[0m\n\u001b[1;32m      4\u001b[0m \u001b[0mprint\u001b[0m\u001b[0;34m(\u001b[0m\u001b[0;34m\"Tuple:\"\u001b[0m\u001b[0;34m,\u001b[0m \u001b[0mmy_tuple\u001b[0m\u001b[0;34m)\u001b[0m\u001b[0;34m\u001b[0m\u001b[0;34m\u001b[0m\u001b[0m\n\u001b[1;32m      5\u001b[0m \u001b[0mprint\u001b[0m\u001b[0;34m(\u001b[0m\u001b[0;34m\"Tuple is ordered:\"\u001b[0m\u001b[0;34m,\u001b[0m \u001b[0mmy_tuple\u001b[0m\u001b[0;34m[\u001b[0m\u001b[0;36m2\u001b[0m\u001b[0;34m]\u001b[0m\u001b[0;34m)\u001b[0m  \u001b[0;31m# Can access by index\u001b[0m\u001b[0;34m\u001b[0m\u001b[0;34m\u001b[0m\u001b[0m\n\u001b[0;32m----> 6\u001b[0;31m \u001b[0mmy_tuple\u001b[0m\u001b[0;34m[\u001b[0m\u001b[0;36m0\u001b[0m\u001b[0;34m]\u001b[0m \u001b[0;34m=\u001b[0m \u001b[0;36m5\u001b[0m  \u001b[0;31m# Uncommenting this will throw an error because tuples are immutable\u001b[0m\u001b[0;34m\u001b[0m\u001b[0;34m\u001b[0m\u001b[0m\n\u001b[0m\u001b[1;32m      7\u001b[0m \u001b[0;31m# print(\"Trying to modify tuple:\", my_tuple)\u001b[0m\u001b[0;34m\u001b[0m\u001b[0;34m\u001b[0m\u001b[0m\n\u001b[1;32m      8\u001b[0m \u001b[0;34m\u001b[0m\u001b[0m\n",
            "\u001b[0;31mTypeError\u001b[0m: 'tuple' object does not support item assignment"
          ]
        }
      ]
    },
    {
      "cell_type": "code",
      "source": [
        "# Dictionary: Unordered, mutable, stores key-value pairs (no duplicates in keys)\n",
        "my_dict = {'a': 1, 'b': 2, 'c': 3}\n",
        "print(\"\\nDictionary Example:\")\n",
        "print(\"Dictionary:\", my_dict)\n",
        "print(\"Dictionary allows accessing by key:\", my_dict['b'])\n",
        "#print(\"Dictionary is ordered:\", my_dict[0])  # This would throw an error, dictionaries are unordered\n",
        "\n"
      ],
      "metadata": {
        "colab": {
          "base_uri": "https://localhost:8080/",
          "height": 108
        },
        "id": "O1CL6bUqZ2xV",
        "outputId": "281bb6ac-5ee3-42f2-ddf9-e60768750af9"
      },
      "execution_count": null,
      "outputs": [
        {
          "output_type": "error",
          "ename": "IndentationError",
          "evalue": "unexpected indent (<ipython-input-11-0f8f6a3c5b7e>, line 6)",
          "traceback": [
            "\u001b[0;36m  File \u001b[0;32m\"<ipython-input-11-0f8f6a3c5b7e>\"\u001b[0;36m, line \u001b[0;32m6\u001b[0m\n\u001b[0;31m    print(\"Dictionary is ordered:\", my_dict[0])  # This would throw an error, dictionaries are unordered\u001b[0m\n\u001b[0m    ^\u001b[0m\n\u001b[0;31mIndentationError\u001b[0m\u001b[0;31m:\u001b[0m unexpected indent\n"
          ]
        }
      ]
    },
    {
      "cell_type": "code",
      "source": [
        "# Set: Unordered, mutable, no duplicates allowed\n",
        "my_set = {1, 2, 3, 4, 4}  # Duplicates will be removed\n",
        "print(\"\\nSet Example:\")\n",
        "print(\"Set:\", my_set)\n",
        "my_set.add(5)  # Adds an element to the set\n",
        "print(\"After adding 5:\", my_set)\n"
      ],
      "metadata": {
        "colab": {
          "base_uri": "https://localhost:8080/"
        },
        "id": "V4ChbYDeaBEt",
        "outputId": "5338331a-7a17-4e6c-d1d4-ff570852746a"
      },
      "execution_count": null,
      "outputs": [
        {
          "output_type": "stream",
          "name": "stdout",
          "text": [
            "\n",
            "Set Example:\n",
            "Set: {1, 2, 3, 4}\n",
            "After adding 5: {1, 2, 3, 4, 5}\n"
          ]
        }
      ]
    }
  ]
}