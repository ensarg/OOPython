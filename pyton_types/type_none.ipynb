{
  "nbformat": 4,
  "nbformat_minor": 0,
  "metadata": {
    "colab": {
      "provenance": [],
      "include_colab_link": true
    },
    "kernelspec": {
      "name": "python3",
      "display_name": "Python 3"
    },
    "language_info": {
      "name": "python"
    }
  },
  "cells": [
    {
      "cell_type": "markdown",
      "metadata": {
        "id": "view-in-github",
        "colab_type": "text"
      },
      "source": [
        "<a href=\"https://colab.research.google.com/github/ensarg/OOPython/blob/main/pyton_types/type_none.ipynb\" target=\"_parent\"><img src=\"https://colab.research.google.com/assets/colab-badge.svg\" alt=\"Open In Colab\"/></a>"
      ]
    },
    {
      "cell_type": "markdown",
      "source": [
        "1. Default Function Return Value\n",
        "If a function doesn't explicitly return a value, Python will automatically return None.\n",
        "This allows for functions where the return value is optional or not needed.\n"
      ],
      "metadata": {
        "id": "w51r3UGgdwQ8"
      }
    },
    {
      "cell_type": "code",
      "source": [
        "def print_message(message):\n",
        "    print(message)\n",
        "\n",
        "result = print_message(\"Hello\")  # This function doesn't return anything.\n",
        "print(result)  # Output: None\n"
      ],
      "metadata": {
        "colab": {
          "base_uri": "https://localhost:8080/"
        },
        "id": "AeZAW5umeX2y",
        "outputId": "c7f7ace3-00e3-44d8-c62f-ff4967a136e2"
      },
      "execution_count": null,
      "outputs": [
        {
          "output_type": "stream",
          "name": "stdout",
          "text": [
            "Hello\n",
            "None\n"
          ]
        }
      ]
    },
    {
      "cell_type": "markdown",
      "source": [
        "2. Indicating Absence of a Value\n",
        "None is often used to signify that a variable or an object doesn't have a value assigned to it, or the value is missing.\n",
        "\n"
      ],
      "metadata": {
        "id": "9BddCf0vejA5"
      }
    },
    {
      "cell_type": "code",
      "source": [
        "user_input = None\n",
        "if user_input is None:\n",
        "    print(\"No input received.\")\n"
      ],
      "metadata": {
        "colab": {
          "base_uri": "https://localhost:8080/"
        },
        "id": "lh9RpRncert-",
        "outputId": "75b46adc-e3fe-4778-febb-024e7cf62660"
      },
      "execution_count": null,
      "outputs": [
        {
          "output_type": "stream",
          "name": "stdout",
          "text": [
            "No input received.\n"
          ]
        }
      ]
    },
    {
      "cell_type": "markdown",
      "source": [
        "3. Default Argument in Functions\n",
        "None is commonly used as the default value for function parameters, especially when you want to detect if the argument was provided or not."
      ],
      "metadata": {
        "id": "RtZHyegjeyrM"
      }
    },
    {
      "cell_type": "code",
      "source": [
        "def greet(name=None):\n",
        "    if name is None:\n",
        "        name = \"Guest\"\n",
        "    print(f\"Hello, {name}!\")\n",
        "\n",
        "greet()  # Output: Hello, Guest!\n",
        "greet(\"Alice\")  # Output: Hello, Alice!\n"
      ],
      "metadata": {
        "colab": {
          "base_uri": "https://localhost:8080/"
        },
        "id": "i0zEaLJie645",
        "outputId": "ae788d4e-af68-43de-ccca-325d71a6da9d"
      },
      "execution_count": null,
      "outputs": [
        {
          "output_type": "stream",
          "name": "stdout",
          "text": [
            "Hello, Guest!\n",
            "Hello, Alice!\n"
          ]
        }
      ]
    },
    {
      "cell_type": "markdown",
      "source": [
        "4. Placeholder for Optional Data\n",
        "In cases where you're working with optional data (e.g., in lists, dictionaries), None can act as a placeholder."
      ],
      "metadata": {
        "id": "L_asl2VPfHOH"
      }
    },
    {
      "cell_type": "code",
      "source": [
        "# None is used to indicate that the \"age\" is unknown or missing\n",
        "my_dict = {'name': 'Alice', 'age': None}\n",
        "print(my_dict)"
      ],
      "metadata": {
        "colab": {
          "base_uri": "https://localhost:8080/"
        },
        "id": "pYC-3XB1fMND",
        "outputId": "2ec23448-b157-4d78-c833-7f7566dbffc3"
      },
      "execution_count": null,
      "outputs": [
        {
          "output_type": "stream",
          "name": "stdout",
          "text": [
            "{'name': 'Alice', 'age': None}\n"
          ]
        }
      ]
    },
    {
      "cell_type": "markdown",
      "source": [
        "5. Termination Indicator in Loops or Recursion\n",
        "None is often used to signal the end of data, such as when iterating through a list, reading from a file, or in recursive functions."
      ],
      "metadata": {
        "id": "6Q-cd8DPfjw2"
      }
    },
    {
      "cell_type": "code",
      "source": [
        "def find_item(lst, target):\n",
        "    for item in lst:\n",
        "        if item == target:\n",
        "            return item\n",
        "    return None  # If target is not found\n",
        "\n",
        "result = find_item([1, 2, 3], 4)\n",
        "print(result)  # Output: None (target not found)\n"
      ],
      "metadata": {
        "colab": {
          "base_uri": "https://localhost:8080/"
        },
        "id": "p1BaUZB-ftpO",
        "outputId": "66b764fa-4e31-4bdd-a1bd-f01d6a1616e8"
      },
      "execution_count": null,
      "outputs": [
        {
          "output_type": "stream",
          "name": "stdout",
          "text": [
            "None\n"
          ]
        }
      ]
    },
    {
      "cell_type": "markdown",
      "source": [
        "6. Comparison with None\n",
        "Since None is a singleton (only one instance exists in the program), you should use is (identity operator) to compare with None, rather than using == (equality operator).\n"
      ],
      "metadata": {
        "id": "QWkxfTCqhZmx"
      }
    },
    {
      "cell_type": "code",
      "source": [
        "x = None\n",
        "if x is None:\n",
        "    print(\"x is None\")\n",
        "\n",
        "if x == None:\n",
        "    print(\"x is None\")\n",
        "\n"
      ],
      "metadata": {
        "colab": {
          "base_uri": "https://localhost:8080/"
        },
        "id": "qNDEHlcAhfzl",
        "outputId": "1ac634e7-a1f2-4e66-947e-88e5e209606d"
      },
      "execution_count": null,
      "outputs": [
        {
          "output_type": "stream",
          "name": "stdout",
          "text": [
            "x is None\n",
            "x is None\n"
          ]
        }
      ]
    },
    {
      "cell_type": "markdown",
      "source": [
        "7. Type Hinting\n",
        "In Python 3.5+ (with type hints), None is also used in function signatures to indicate that a function doesn't return anything, i.e., its return type is None.\n",
        "\n",
        "This helps with static analysis tools and code clarity."
      ],
      "metadata": {
        "id": "z2yQRjg6jbWU"
      }
    },
    {
      "cell_type": "code",
      "source": [
        "def log(message: str) -> None:\n",
        "    print(message)\n",
        "\n",
        "log(\"Hello!\")  # This function doesn't return anything, so its return type is None.\n"
      ],
      "metadata": {
        "colab": {
          "base_uri": "https://localhost:8080/"
        },
        "id": "-ieIdEKNjdt-",
        "outputId": "bb6e127f-d4aa-444d-8e00-e938646f4fa4"
      },
      "execution_count": null,
      "outputs": [
        {
          "output_type": "stream",
          "name": "stdout",
          "text": [
            "Hello!\n"
          ]
        }
      ]
    },
    {
      "cell_type": "markdown",
      "source": [
        "8. Working with None in Data Structures\n",
        "None is often used as a sentinel value in data structures, representing an uninitialized or invalid state"
      ],
      "metadata": {
        "id": "lmpB6KDvjwis"
      }
    },
    {
      "cell_type": "markdown",
      "source": [],
      "metadata": {
        "id": "511i9lFNjndW"
      }
    },
    {
      "cell_type": "code",
      "source": [
        "stack = [None, 1, 2, 3]  # None as a placeholder in the stack\n",
        "print(stack)"
      ],
      "metadata": {
        "colab": {
          "base_uri": "https://localhost:8080/"
        },
        "id": "9F0w8FSpj2XK",
        "outputId": "f4c69740-b753-466c-9c2b-ffffd6887554"
      },
      "execution_count": null,
      "outputs": [
        {
          "output_type": "stream",
          "name": "stdout",
          "text": [
            "[None, 1, 2, 3]\n"
          ]
        }
      ]
    },
    {
      "cell_type": "markdown",
      "source": [
        "Summary\n",
        "*   List itemDefault Return Value: Functions return None when no value is explicitly returned.\n",
        "\n",
        "*   List item Representing Absence of Value: None is used to show that something is missing or undefined.\n",
        "\n",
        "*   List item Default Argument Value: Used in functions to check if an argument is passed or not.\n",
        "\n",
        "*   List item Placeholders: Used in lists, dictionaries, or other data structures when you need a placeholder for missing or uninitialized data.\n",
        "\n",
        "*   List item  Signal: In loops or recursion, None can be used to signal the end or completion of a process.\n",
        "\n",
        "*   List item Type Hints: Used to indicate functions that don't return anything (-> None).\n",
        "\n",
        "\n",
        "\n",
        "While None may seem like a simple concept, it's an important part of Python that allows you to handle cases where values are optional, absent, or undefined, and provides consistency in handling these situations."
      ],
      "metadata": {
        "id": "I1fTFkjLkA0g"
      }
    }
  ]
}