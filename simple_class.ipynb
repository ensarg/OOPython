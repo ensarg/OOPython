{
  "nbformat": 4,
  "nbformat_minor": 0,
  "metadata": {
    "colab": {
      "provenance": [],
      "authorship_tag": "ABX9TyOWSh+iKrCPQ6UQ1DtqsWKW",
      "include_colab_link": true
    },
    "kernelspec": {
      "name": "python3",
      "display_name": "Python 3"
    },
    "language_info": {
      "name": "python"
    }
  },
  "cells": [
    {
      "cell_type": "markdown",
      "metadata": {
        "id": "view-in-github",
        "colab_type": "text"
      },
      "source": [
        "<a href=\"https://colab.research.google.com/github/ensarg/OOPython/blob/main/simple_class.ipynb\" target=\"_parent\"><img src=\"https://colab.research.google.com/assets/colab-badge.svg\" alt=\"Open In Colab\"/></a>"
      ]
    },
    {
      "cell_type": "code",
      "source": [
        "!pip install simpleaudio\n",
        "!pip install pydub\n"
      ],
      "metadata": {
        "colab": {
          "base_uri": "https://localhost:8080/"
        },
        "id": "y9OZxnhE5zH3",
        "outputId": "1dbb5837-c795-4589-c7be-16703bd0833e"
      },
      "execution_count": 2,
      "outputs": [
        {
          "output_type": "stream",
          "name": "stdout",
          "text": [
            "Collecting simpleaudio\n",
            "  Downloading simpleaudio-1.0.4.tar.gz (2.0 MB)\n",
            "\u001b[2K     \u001b[90m━━━━━━━━━━━━━━━━━━━━━━━━━━━━━━━━━━━━━━━━\u001b[0m \u001b[32m2.0/2.0 MB\u001b[0m \u001b[31m17.2 MB/s\u001b[0m eta \u001b[36m0:00:00\u001b[0m\n",
            "\u001b[?25h  Preparing metadata (setup.py) ... \u001b[?25l\u001b[?25hdone\n",
            "Building wheels for collected packages: simpleaudio\n",
            "  Building wheel for simpleaudio (setup.py) ... \u001b[?25l\u001b[?25hdone\n",
            "  Created wheel for simpleaudio: filename=simpleaudio-1.0.4-cp311-cp311-linux_x86_64.whl size=2054423 sha256=48a76a23ccca3a881ff9af9555ce859b7a729e29421eaeb3df735e90cf7db500\n",
            "  Stored in directory: /root/.cache/pip/wheels/44/74/11/9d2cf6ddf5d0dcc7750484a371b92fdb036f5496d1d4b42d08\n",
            "Successfully built simpleaudio\n",
            "Installing collected packages: simpleaudio\n",
            "Successfully installed simpleaudio-1.0.4\n",
            "Collecting pydub\n",
            "  Downloading pydub-0.25.1-py2.py3-none-any.whl.metadata (1.4 kB)\n",
            "Downloading pydub-0.25.1-py2.py3-none-any.whl (32 kB)\n",
            "Installing collected packages: pydub\n",
            "Successfully installed pydub-0.25.1\n"
          ]
        }
      ]
    },
    {
      "cell_type": "code",
      "source": [],
      "metadata": {
        "id": "gXeDnxqT7rnC"
      },
      "execution_count": null,
      "outputs": []
    },
    {
      "cell_type": "code",
      "source": [
        "#mount google drive\n",
        "from google.colab import drive\n",
        "drive.mount('/content/drive/',force_remount=True)\n",
        "!ls /content/drive/MyDrive/Colabs/OOPython/sounds\n",
        "%cd /content/drive/MyDrive/Colabs/OOPython/sounds\n",
        "#%cd /content/My Drive/Colab Notebooks/OOPython/sounds"
      ],
      "metadata": {
        "colab": {
          "base_uri": "https://localhost:8080/"
        },
        "id": "57sBxevN6oSE",
        "outputId": "339c7040-7645-4548-ecde-d50c045349de"
      },
      "execution_count": 14,
      "outputs": [
        {
          "output_type": "stream",
          "name": "stdout",
          "text": [
            "Mounted at /content/drive/\n",
            "cat.wav\n",
            "/content/drive/MyDrive/Colabs/OOPython/sounds\n"
          ]
        }
      ]
    },
    {
      "cell_type": "code",
      "execution_count": 23,
      "metadata": {
        "id": "-KkQ7ueploTB"
      },
      "outputs": [],
      "source": [
        "import simpleaudio as sa\n",
        "from pydub import AudioSegment\n",
        "from pydub.playback import play\n",
        "class Cat:\n",
        "    def __init__(self, name, age, color):\n",
        "        self.name = name\n",
        "        self.age = age\n",
        "        self.color = color\n",
        "\n",
        "    def get_name(self):\n",
        "        return self.name\n",
        "\n",
        "    def get_age(self):\n",
        "        return self.age\n",
        "\n",
        "    def get_color(self):\n",
        "        return self.color\n",
        "\n",
        "    def set_name(self, name):\n",
        "        self.name = name\n",
        "\n",
        "    def set_age(self, age):\n",
        "        self.age = age\n",
        "\n",
        "    def set_color(self, color):\n",
        "        self.color = color\n",
        "\n",
        "    def meow(self):\n",
        "        print(f\"{self.name} says: Meow!\")\n",
        "        try:\n",
        "            sound = AudioSegment.from_file(\"cat.wav\", format=\"wav\")\n",
        "            play(sound)\n",
        "\n",
        "        except Exception as e:\n",
        "            print(f\"Error playing sound: {e}\")\n",
        ""
      ]
    },
    {
      "cell_type": "code",
      "source": [
        "# Example usage\n",
        "if __name__ == \"__main__\":\n",
        "    my_cat = Cat(\"Whiskers\", 3, \"Gray\")\n",
        "    print(f\"My cat's name is {my_cat.get_name()}\")\n",
        "    print(f\"It is {my_cat.get_age()} years old.\")\n",
        "    print(f\"Its color is {my_cat.get_color()}\")\n",
        "\n",
        "    my_cat.meow()"
      ],
      "metadata": {
        "colab": {
          "base_uri": "https://localhost:8080/"
        },
        "id": "3_pYOenu9_BU",
        "outputId": "63386461-e641-421b-9016-ad6e1cb6dd4f"
      },
      "execution_count": 24,
      "outputs": [
        {
          "output_type": "stream",
          "name": "stdout",
          "text": [
            "My cat's name is Whiskers\n",
            "It is 3 years old.\n",
            "Its color is Gray\n",
            "Whiskers says: Meow!\n",
            "Error playing sound: Weird sample rates are not supported.\n"
          ]
        }
      ]
    },
    {
      "cell_type": "code",
      "source": [
        "# prompt: play a sound file\n",
        "\n",
        "# Example usage\n",
        "if __name__ == \"__main__\":\n",
        "        my_cat = Cat(\"Whiskers\", 3, \"Gray\")\n",
        "        print(f\"My cat's name is {my_cat.get_name()}\")\n",
        "        print(f\"It is {my_cat.get_age()} years old.\")\n",
        "        print(f\"Its color is {my_cat.get_color()}\")\n",
        "\n",
        "        my_cat.meow()\n"
      ],
      "metadata": {
        "id": "6kMd-pic5xYR"
      },
      "execution_count": null,
      "outputs": []
    }
  ]
}