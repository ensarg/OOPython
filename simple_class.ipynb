{
  "nbformat": 4,
  "nbformat_minor": 0,
  "metadata": {
    "colab": {
      "provenance": [],
      "authorship_tag": "ABX9TyMlogyo399ep8VvtFzpZD+9",
      "include_colab_link": true
    },
    "kernelspec": {
      "name": "python3",
      "display_name": "Python 3"
    },
    "language_info": {
      "name": "python"
    }
  },
  "cells": [
    {
      "cell_type": "markdown",
      "metadata": {
        "id": "view-in-github",
        "colab_type": "text"
      },
      "source": [
        "<a href=\"https://colab.research.google.com/github/ensarg/OOPython/blob/main/simple_class.ipynb\" target=\"_parent\"><img src=\"https://colab.research.google.com/assets/colab-badge.svg\" alt=\"Open In Colab\"/></a>"
      ]
    },
    {
      "cell_type": "code",
      "source": [
        "!pip install simpleaudio\n",
        "!pip install pydub\n",
        "!pip install playsound\n"
      ],
      "metadata": {
        "id": "y9OZxnhE5zH3"
      },
      "execution_count": null,
      "outputs": []
    },
    {
      "cell_type": "code",
      "source": [
        "#mount google drive\n",
        "from google.colab import drive\n",
        "drive.mount('/content/drive/',force_remount=True)\n",
        "!ls /content/drive/MyDrive/Colabs/OOPython/sounds\n",
        "%cd /content/drive/MyDrive/Colabs/OOPython/sounds\n"
      ],
      "metadata": {
        "id": "57sBxevN6oSE"
      },
      "execution_count": null,
      "outputs": []
    },
    {
      "cell_type": "code",
      "execution_count": 39,
      "metadata": {
        "id": "-KkQ7ueploTB"
      },
      "outputs": [],
      "source": [
        "import simpleaudio as sa\n",
        "from pydub import AudioSegment\n",
        "from pydub.playback import play\n",
        "from playsound import playsound\n",
        "class Cat:\n",
        "    def __init__(self, name, age, color):\n",
        "        self.name = name\n",
        "        self.age = age\n",
        "        self.color = color\n",
        "\n",
        "    def get_name(self):\n",
        "        return self.name\n",
        "\n",
        "    def get_age(self):\n",
        "        return self.age\n",
        "\n",
        "    def get_color(self):\n",
        "        return self.color\n",
        "\n",
        "    def set_name(self, name):\n",
        "        self.name = name\n",
        "\n",
        "    def set_age(self, age):\n",
        "        self.age = age\n",
        "\n",
        "    def set_color(self, color):\n",
        "        self.color = color\n",
        "\n",
        "    def meow(self):\n",
        "        print(f\"{self.name} says: Meow!\")\n",
        "        try:\n",
        "            #sound = AudioSegment.from_file(\"cat2.wav\", format=\"wav\")\n",
        "            #play(sound)\n",
        "            sound = Audio('cat2.wav', autoplay=True)\n",
        "            display(sound)\n",
        "        except Exception as e:\n",
        "            print(f\"Error playing sound: {e}\")\n",
        ""
      ]
    },
    {
      "cell_type": "code",
      "source": [
        "from IPython.display import Audio\n",
        "# Example usage\n",
        "if __name__ == \"__main__\":\n",
        "    my_cat = Cat(\"tekir\", 3, \"Gray\")\n",
        "    print(f\"My cat's name is {my_cat.get_name()}\")\n",
        "    print(f\"It is {my_cat.get_age()} years old.\")\n",
        "    print(f\"Its color is {my_cat.get_color()}\")\n",
        "\n",
        "    my_cat.meow()"
      ],
      "metadata": {
        "id": "3_pYOenu9_BU"
      },
      "execution_count": null,
      "outputs": []
    }
  ]
}